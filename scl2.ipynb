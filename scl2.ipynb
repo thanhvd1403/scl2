{
 "metadata": {
  "language_info": {
   "codemirror_mode": {
    "name": "ipython",
    "version": 3
   },
   "file_extension": ".py",
   "mimetype": "text/x-python",
   "name": "python",
   "nbconvert_exporter": "python",
   "pygments_lexer": "ipython3",
   "version": "3.9.1-final"
  },
  "orig_nbformat": 2,
  "kernelspec": {
   "name": "python3",
   "display_name": "Python 3.9.1 64-bit",
   "metadata": {
    "interpreter": {
     "hash": "4629eba9299277b0073d2a990bba24370e7fec86e25fb9c6447601598896f5e7"
    }
   }
  }
 },
 "nbformat": 4,
 "nbformat_minor": 2,
 "cells": [
  {
   "cell_type": "code",
   "execution_count": 2,
   "metadata": {},
   "outputs": [],
   "source": [
    "import pandas as pd\n",
    "import spacy"
   ]
  },
  {
   "cell_type": "code",
   "execution_count": 3,
   "metadata": {},
   "outputs": [
    {
     "output_type": "execute_result",
     "data": {
      "text/plain": [
       "   id                                        raw_address  \\\n",
       "0   0  jl kapuk timur delta sili iii lippo cika 11 a ...   \n",
       "1   1                                 aye, jati sampurna   \n",
       "2   2               setu siung 119 rt 5 1 13880 cipayung   \n",
       "3   3                               toko dita, kertosono   \n",
       "4   4                                      jl. orde baru   \n",
       "\n",
       "                                  POI/street  \n",
       "0  /jl kapuk timur delta sili iii lippo cika  \n",
       "1                                          /  \n",
       "2                                     /siung  \n",
       "3                                 toko dita/  \n",
       "4                             /jl. orde baru  "
      ],
      "text/html": "<div>\n<style scoped>\n    .dataframe tbody tr th:only-of-type {\n        vertical-align: middle;\n    }\n\n    .dataframe tbody tr th {\n        vertical-align: top;\n    }\n\n    .dataframe thead th {\n        text-align: right;\n    }\n</style>\n<table border=\"1\" class=\"dataframe\">\n  <thead>\n    <tr style=\"text-align: right;\">\n      <th></th>\n      <th>id</th>\n      <th>raw_address</th>\n      <th>POI/street</th>\n    </tr>\n  </thead>\n  <tbody>\n    <tr>\n      <th>0</th>\n      <td>0</td>\n      <td>jl kapuk timur delta sili iii lippo cika 11 a ...</td>\n      <td>/jl kapuk timur delta sili iii lippo cika</td>\n    </tr>\n    <tr>\n      <th>1</th>\n      <td>1</td>\n      <td>aye, jati sampurna</td>\n      <td>/</td>\n    </tr>\n    <tr>\n      <th>2</th>\n      <td>2</td>\n      <td>setu siung 119 rt 5 1 13880 cipayung</td>\n      <td>/siung</td>\n    </tr>\n    <tr>\n      <th>3</th>\n      <td>3</td>\n      <td>toko dita, kertosono</td>\n      <td>toko dita/</td>\n    </tr>\n    <tr>\n      <th>4</th>\n      <td>4</td>\n      <td>jl. orde baru</td>\n      <td>/jl. orde baru</td>\n    </tr>\n  </tbody>\n</table>\n</div>"
     },
     "metadata": {},
     "execution_count": 3
    }
   ],
   "source": [
    "df = pd.read_csv('train.csv')\n",
    "df.head()"
   ]
  },
  {
   "cell_type": "code",
   "execution_count": 4,
   "metadata": {},
   "outputs": [],
   "source": [
    "split = df['POI/street'].str.split(\"/\", expand=True)\n",
    "df[\"POI\"] = split[0]\n",
    "df['street'] = split[1]"
   ]
  },
  {
   "cell_type": "code",
   "execution_count": 5,
   "metadata": {},
   "outputs": [
    {
     "output_type": "execute_result",
     "data": {
      "text/plain": [
       "   id                                        raw_address  \\\n",
       "0   0  jl kapuk timur delta sili iii lippo cika 11 a ...   \n",
       "1   1                                 aye, jati sampurna   \n",
       "2   2               setu siung 119 rt 5 1 13880 cipayung   \n",
       "3   3                               toko dita, kertosono   \n",
       "4   4                                      jl. orde baru   \n",
       "\n",
       "                                  POI/street        POI  \\\n",
       "0  /jl kapuk timur delta sili iii lippo cika              \n",
       "1                                          /              \n",
       "2                                     /siung              \n",
       "3                                 toko dita/  toko dita   \n",
       "4                             /jl. orde baru              \n",
       "\n",
       "                                     street  \n",
       "0  jl kapuk timur delta sili iii lippo cika  \n",
       "1                                            \n",
       "2                                     siung  \n",
       "3                                            \n",
       "4                             jl. orde baru  "
      ],
      "text/html": "<div>\n<style scoped>\n    .dataframe tbody tr th:only-of-type {\n        vertical-align: middle;\n    }\n\n    .dataframe tbody tr th {\n        vertical-align: top;\n    }\n\n    .dataframe thead th {\n        text-align: right;\n    }\n</style>\n<table border=\"1\" class=\"dataframe\">\n  <thead>\n    <tr style=\"text-align: right;\">\n      <th></th>\n      <th>id</th>\n      <th>raw_address</th>\n      <th>POI/street</th>\n      <th>POI</th>\n      <th>street</th>\n    </tr>\n  </thead>\n  <tbody>\n    <tr>\n      <th>0</th>\n      <td>0</td>\n      <td>jl kapuk timur delta sili iii lippo cika 11 a ...</td>\n      <td>/jl kapuk timur delta sili iii lippo cika</td>\n      <td></td>\n      <td>jl kapuk timur delta sili iii lippo cika</td>\n    </tr>\n    <tr>\n      <th>1</th>\n      <td>1</td>\n      <td>aye, jati sampurna</td>\n      <td>/</td>\n      <td></td>\n      <td></td>\n    </tr>\n    <tr>\n      <th>2</th>\n      <td>2</td>\n      <td>setu siung 119 rt 5 1 13880 cipayung</td>\n      <td>/siung</td>\n      <td></td>\n      <td>siung</td>\n    </tr>\n    <tr>\n      <th>3</th>\n      <td>3</td>\n      <td>toko dita, kertosono</td>\n      <td>toko dita/</td>\n      <td>toko dita</td>\n      <td></td>\n    </tr>\n    <tr>\n      <th>4</th>\n      <td>4</td>\n      <td>jl. orde baru</td>\n      <td>/jl. orde baru</td>\n      <td></td>\n      <td>jl. orde baru</td>\n    </tr>\n  </tbody>\n</table>\n</div>"
     },
     "metadata": {},
     "execution_count": 5
    }
   ],
   "source": [
    "df.head()"
   ]
  },
  {
   "cell_type": "code",
   "execution_count": 6,
   "metadata": {},
   "outputs": [],
   "source": [
    "train_s_c = []\n",
    "train_p_c = []\n",
    "\n",
    "for index, row in df.iterrows():\n",
    "    add = row['raw_address']\n",
    "    street = row['street']\n",
    "    poi = row['POI']\n",
    "\n",
    "    if street:\n",
    "        s_pos = add.find(street)\n",
    "        if s_pos != -1:\n",
    "            entities = []\n",
    "            entities.append((s_pos, s_pos + len(street) + 1, 'street'))\n",
    "            train_s_c.append((add, {\"entities\" : entities}))\n",
    "\n",
    "    if poi:\n",
    "        p_pos = add.find(poi)\n",
    "        if p_pos != -1:\n",
    "            entities = []\n",
    "            entities.append((p_pos, p_pos + len(poi) + 1, 'POI'))\n",
    "            train_p_c.append((add, {\"entities\" : entities}))"
   ]
  },
  {
   "cell_type": "code",
   "execution_count": 7,
   "metadata": {},
   "outputs": [
    {
     "output_type": "stream",
     "name": "stderr",
     "text": [
      "100%|██████████| 212470/212470 [01:09<00:00, 3066.14it/s]\n",
      "100%|██████████| 75351/75351 [00:24<00:00, 3090.52it/s]\n"
     ]
    }
   ],
   "source": [
    "from tqdm import tqdm\n",
    "from spacy.tokens import DocBin\n",
    "\n",
    "nlp = spacy.blank(\"en\") # load a new spacy model\n",
    "\n",
    "\n",
    "db = DocBin() # create a DocBin object\n",
    "for text, annot in tqdm(train_s_c): # data in previous format\n",
    "    doc = nlp.make_doc(text) # create doc object from text\n",
    "    ents = []\n",
    "    for start, end, label in annot[\"entities\"]: # add character indexes\n",
    "        span = doc.char_span(start, end, label=label, alignment_mode=\"contract\")\n",
    "        if span is None:\n",
    "            pass\n",
    "        else:\n",
    "            ents.append(span)\n",
    "    doc.ents = ents # label the text with the ents\n",
    "    db.add(doc)\n",
    "db.to_disk(\"./train_s_c.spacy\") # save the docbin object\n",
    "\n",
    "\n",
    "db = DocBin() # create a DocBin object\n",
    "for text, annot in tqdm(train_p_c): # data in previous format\n",
    "    doc = nlp.make_doc(text) # create doc object from text\n",
    "    ents = []\n",
    "    for start, end, label in annot[\"entities\"]: # add character indexes\n",
    "        span = doc.char_span(start, end, label=label, alignment_mode=\"contract\")\n",
    "        if span is None:\n",
    "            pass\n",
    "        else:\n",
    "            ents.append(span)\n",
    "    doc.ents = ents # label the text with the ents\n",
    "    db.add(doc)\n",
    "db.to_disk(\"./train_p_c.spacy\") # save the docbin object"
   ]
  },
  {
   "cell_type": "code",
   "execution_count": 1,
   "metadata": {},
   "outputs": [],
   "source": [
    "#training model"
   ]
  },
  {
   "cell_type": "code",
   "execution_count": 7,
   "metadata": {},
   "outputs": [],
   "source": [
    "nlps = spacy.load(R\".\\output_s\\model-best\")"
   ]
  },
  {
   "cell_type": "code",
   "execution_count": 15,
   "metadata": {},
   "outputs": [],
   "source": [
    "test = pd.read_csv('test.csv')"
   ]
  },
  {
   "cell_type": "code",
   "execution_count": 22,
   "metadata": {},
   "outputs": [],
   "source": [
    "test['street'] = ['']*50000"
   ]
  },
  {
   "cell_type": "code",
   "execution_count": 23,
   "metadata": {},
   "outputs": [
    {
     "output_type": "execute_result",
     "data": {
      "text/plain": [
       "   id                                    raw_address street\n",
       "0   0          s. par 53 sidanegara 4 cilacap tengah       \n",
       "1   1          angg per, baloi indah kel. lubuk baja       \n",
       "2   2                          asma laun, mand imog,       \n",
       "3   3  ud agung rej, raya nga sri wedari karanganyar       \n",
       "4   4                     cut mutia, 35 baiturrahman       "
      ],
      "text/html": "<div>\n<style scoped>\n    .dataframe tbody tr th:only-of-type {\n        vertical-align: middle;\n    }\n\n    .dataframe tbody tr th {\n        vertical-align: top;\n    }\n\n    .dataframe thead th {\n        text-align: right;\n    }\n</style>\n<table border=\"1\" class=\"dataframe\">\n  <thead>\n    <tr style=\"text-align: right;\">\n      <th></th>\n      <th>id</th>\n      <th>raw_address</th>\n      <th>street</th>\n    </tr>\n  </thead>\n  <tbody>\n    <tr>\n      <th>0</th>\n      <td>0</td>\n      <td>s. par 53 sidanegara 4 cilacap tengah</td>\n      <td></td>\n    </tr>\n    <tr>\n      <th>1</th>\n      <td>1</td>\n      <td>angg per, baloi indah kel. lubuk baja</td>\n      <td></td>\n    </tr>\n    <tr>\n      <th>2</th>\n      <td>2</td>\n      <td>asma laun, mand imog,</td>\n      <td></td>\n    </tr>\n    <tr>\n      <th>3</th>\n      <td>3</td>\n      <td>ud agung rej, raya nga sri wedari karanganyar</td>\n      <td></td>\n    </tr>\n    <tr>\n      <th>4</th>\n      <td>4</td>\n      <td>cut mutia, 35 baiturrahman</td>\n      <td></td>\n    </tr>\n  </tbody>\n</table>\n</div>"
     },
     "metadata": {},
     "execution_count": 23
    }
   ],
   "source": [
    "test.head()"
   ]
  },
  {
   "cell_type": "code",
   "execution_count": 74,
   "metadata": {},
   "outputs": [],
   "source": [
    "street_d = {var for var in df['street']}"
   ]
  },
  {
   "cell_type": "code",
   "execution_count": 76,
   "metadata": {},
   "outputs": [
    {
     "output_type": "stream",
     "name": "stderr",
     "text": [
      "C:\\Users\\vuduc\\AppData\\Local\\Programs\\Python\\Python39\\lib\\site-packages\\pandas\\core\\indexing.py:1637: SettingWithCopyWarning: \nA value is trying to be set on a copy of a slice from a DataFrame\n\nSee the caveats in the documentation: https://pandas.pydata.org/pandas-docs/stable/user_guide/indexing.html#returning-a-view-versus-a-copy\n  self._setitem_single_block(indexer, value, name)\n"
     ]
    }
   ],
   "source": [
    "for index, row in test.iterrows():\n",
    "    test_str = \"\"\n",
    "    addr = row['raw_address']\n",
    "    doc = nlps(addr)\n",
    "    if len(doc.ents) > 0:\n",
    "        test_str = doc.ents[0].text\n",
    "        if test_str[-1] == ',':\n",
    "            test_str = test_str[:-1]\n",
    "    if test_str in street_d:\n",
    "        test['street'].iloc[index] = test_str"
   ]
  },
  {
   "cell_type": "code",
   "execution_count": 80,
   "metadata": {},
   "outputs": [
    {
     "output_type": "execute_result",
     "data": {
      "text/plain": [
       "                      6444\n",
       "jend sudi              251\n",
       "ahmad yani             161\n",
       "jend ahmad yani        108\n",
       "pem                     88\n",
       "                      ... \n",
       "haji goti                1\n",
       "karya sari               1\n",
       "agus ahmad               1\n",
       "komp sek. neg cido       1\n",
       "tam sega i               1\n",
       "Name: street, Length: 28119, dtype: int64"
      ]
     },
     "metadata": {},
     "execution_count": 80
    }
   ],
   "source": [
    "test['street'].value_counts()"
   ]
  },
  {
   "cell_type": "code",
   "execution_count": 81,
   "metadata": {},
   "outputs": [
    {
     "output_type": "execute_result",
     "data": {
      "text/plain": [
       "          id                                        raw_address  \\\n",
       "49990  49990                      tre jaya indon, h maul hasan,   \n",
       "49991  49991           river gar boule cakung timur rw 7 cakung   \n",
       "49992  49992                       toddo iv pandang panakkukang   \n",
       "49993  49993                       gayaman nasi 24 12 mojoanyar   \n",
       "49994  49994                             m. tau kandai dua woja   \n",
       "49995  49995                    toko mbak farid semboro semboro   \n",
       "49996  49996     vie - tk. ridho kids, vete 3 cari, 16720 ciawi   \n",
       "49997  49997                mart dan roti bakar malabar, nasio,   \n",
       "49998  49998  graha indah pamulang jl. mujair raya bambu apu...   \n",
       "49999  49999                                               adi,   \n",
       "\n",
       "                street  \n",
       "49990     h maul hasan  \n",
       "49991  river gar boule  \n",
       "49992         toddo iv  \n",
       "49993          nasi 24  \n",
       "49994           m. tau  \n",
       "49995                   \n",
       "49996      vete 3 cari  \n",
       "49997            nasio  \n",
       "49998  jl. mujair raya  \n",
       "49999              adi  "
      ],
      "text/html": "<div>\n<style scoped>\n    .dataframe tbody tr th:only-of-type {\n        vertical-align: middle;\n    }\n\n    .dataframe tbody tr th {\n        vertical-align: top;\n    }\n\n    .dataframe thead th {\n        text-align: right;\n    }\n</style>\n<table border=\"1\" class=\"dataframe\">\n  <thead>\n    <tr style=\"text-align: right;\">\n      <th></th>\n      <th>id</th>\n      <th>raw_address</th>\n      <th>street</th>\n    </tr>\n  </thead>\n  <tbody>\n    <tr>\n      <th>49990</th>\n      <td>49990</td>\n      <td>tre jaya indon, h maul hasan,</td>\n      <td>h maul hasan</td>\n    </tr>\n    <tr>\n      <th>49991</th>\n      <td>49991</td>\n      <td>river gar boule cakung timur rw 7 cakung</td>\n      <td>river gar boule</td>\n    </tr>\n    <tr>\n      <th>49992</th>\n      <td>49992</td>\n      <td>toddo iv pandang panakkukang</td>\n      <td>toddo iv</td>\n    </tr>\n    <tr>\n      <th>49993</th>\n      <td>49993</td>\n      <td>gayaman nasi 24 12 mojoanyar</td>\n      <td>nasi 24</td>\n    </tr>\n    <tr>\n      <th>49994</th>\n      <td>49994</td>\n      <td>m. tau kandai dua woja</td>\n      <td>m. tau</td>\n    </tr>\n    <tr>\n      <th>49995</th>\n      <td>49995</td>\n      <td>toko mbak farid semboro semboro</td>\n      <td></td>\n    </tr>\n    <tr>\n      <th>49996</th>\n      <td>49996</td>\n      <td>vie - tk. ridho kids, vete 3 cari, 16720 ciawi</td>\n      <td>vete 3 cari</td>\n    </tr>\n    <tr>\n      <th>49997</th>\n      <td>49997</td>\n      <td>mart dan roti bakar malabar, nasio,</td>\n      <td>nasio</td>\n    </tr>\n    <tr>\n      <th>49998</th>\n      <td>49998</td>\n      <td>graha indah pamulang jl. mujair raya bambu apu...</td>\n      <td>jl. mujair raya</td>\n    </tr>\n    <tr>\n      <th>49999</th>\n      <td>49999</td>\n      <td>adi,</td>\n      <td>adi</td>\n    </tr>\n  </tbody>\n</table>\n</div>"
     },
     "metadata": {},
     "execution_count": 81
    }
   ],
   "source": [
    "test.iloc[-10:]"
   ]
  },
  {
   "cell_type": "code",
   "execution_count": 93,
   "metadata": {},
   "outputs": [],
   "source": [
    "poi_d = {var for var in df['POI']}"
   ]
  },
  {
   "cell_type": "code",
   "execution_count": 84,
   "metadata": {},
   "outputs": [],
   "source": [
    "nlpp = spacy.load(R\".\\output_p\\model-best\")"
   ]
  },
  {
   "cell_type": "code",
   "execution_count": 97,
   "metadata": {},
   "outputs": [],
   "source": [
    "test['POI'] = ['']*50000"
   ]
  },
  {
   "cell_type": "code",
   "execution_count": 98,
   "metadata": {},
   "outputs": [
    {
     "output_type": "stream",
     "name": "stderr",
     "text": [
      "C:\\Users\\vuduc\\AppData\\Local\\Programs\\Python\\Python39\\lib\\site-packages\\pandas\\core\\indexing.py:1637: SettingWithCopyWarning: \nA value is trying to be set on a copy of a slice from a DataFrame\n\nSee the caveats in the documentation: https://pandas.pydata.org/pandas-docs/stable/user_guide/indexing.html#returning-a-view-versus-a-copy\n  self._setitem_single_block(indexer, value, name)\n"
     ]
    }
   ],
   "source": [
    "for index, row in test.iterrows():\n",
    "    test_str = \"\"\n",
    "    addr = row['raw_address']\n",
    "    doc = nlpp(addr)\n",
    "    if len(doc.ents) > 0:\n",
    "        test_str = doc.ents[0].text\n",
    "        if test_str[-1] == ',':\n",
    "            test_str = test_str[:-1]\n",
    "    if test_str in poi_d:\n",
    "        test['POI'].iloc[index] = test_str"
   ]
  },
  {
   "cell_type": "code",
   "execution_count": 100,
   "metadata": {},
   "outputs": [],
   "source": [
    "test['POI/street'] = ['']*50000"
   ]
  },
  {
   "cell_type": "code",
   "execution_count": 103,
   "metadata": {},
   "outputs": [
    {
     "output_type": "execute_result",
     "data": {
      "text/plain": [
       "                       44896\n",
       "perumahan wahana          68\n",
       "palm spring regency       33\n",
       "tower sakura              31\n",
       "alfamart                  28\n",
       "                       ...  \n",
       "merpati                    1\n",
       "pawang tenun               1\n",
       "perumahan pesona           1\n",
       "toko mega                  1\n",
       "griya laundry              1\n",
       "Name: POI, Length: 2489, dtype: int64"
      ]
     },
     "metadata": {},
     "execution_count": 103
    }
   ],
   "source": [
    "test['POI'].value_counts()"
   ]
  },
  {
   "cell_type": "code",
   "execution_count": 104,
   "metadata": {},
   "outputs": [],
   "source": [
    "test['POI/street'] = test['POI'] + '/' + test['street']"
   ]
  },
  {
   "cell_type": "code",
   "execution_count": 106,
   "metadata": {},
   "outputs": [
    {
     "output_type": "execute_result",
     "data": {
      "text/plain": [
       "      id                                       raw_address  \\\n",
       "100  100  tiki, bule utara kelapa gad, kelapa gading timur   \n",
       "101  101                                 sate 61151 manyar   \n",
       "102  102      jl.a dah 9 kramat pela rt 1 1 kebayoran baru   \n",
       "103  103                                      cafe fun rck   \n",
       "104  104                        wonosari pudak 22 wonosari   \n",
       "105  105             tham 5 49 ketapang rt 3 rw 2 cipondoh   \n",
       "106  106                      jogoka gg. sidol mantrijeron   \n",
       "107  107   move on cell, pasundan no 1 75123 samarinda ulu   \n",
       "108  108                             lat sim, klaten utara   \n",
       "109  109                           sutra putih marg, depok   \n",
       "\n",
       "                    street          POI                  POI/street  \n",
       "100  bule utara kelapa gad         tiki  tiki/bule utara kelapa gad  \n",
       "101                   sate                                    /sate  \n",
       "102               jl.a dah                                /jl.a dah  \n",
       "103                                                               /  \n",
       "104         wonosari pudak                          /wonosari pudak  \n",
       "105                 tham 5                                  /tham 5  \n",
       "106       jogoka gg. sidol                        /jogoka gg. sidol  \n",
       "107               pasundan                                /pasundan  \n",
       "108                lat sim                                 /lat sim  \n",
       "109                   marg  sutra putih            sutra putih/marg  "
      ],
      "text/html": "<div>\n<style scoped>\n    .dataframe tbody tr th:only-of-type {\n        vertical-align: middle;\n    }\n\n    .dataframe tbody tr th {\n        vertical-align: top;\n    }\n\n    .dataframe thead th {\n        text-align: right;\n    }\n</style>\n<table border=\"1\" class=\"dataframe\">\n  <thead>\n    <tr style=\"text-align: right;\">\n      <th></th>\n      <th>id</th>\n      <th>raw_address</th>\n      <th>street</th>\n      <th>POI</th>\n      <th>POI/street</th>\n    </tr>\n  </thead>\n  <tbody>\n    <tr>\n      <th>100</th>\n      <td>100</td>\n      <td>tiki, bule utara kelapa gad, kelapa gading timur</td>\n      <td>bule utara kelapa gad</td>\n      <td>tiki</td>\n      <td>tiki/bule utara kelapa gad</td>\n    </tr>\n    <tr>\n      <th>101</th>\n      <td>101</td>\n      <td>sate 61151 manyar</td>\n      <td>sate</td>\n      <td></td>\n      <td>/sate</td>\n    </tr>\n    <tr>\n      <th>102</th>\n      <td>102</td>\n      <td>jl.a dah 9 kramat pela rt 1 1 kebayoran baru</td>\n      <td>jl.a dah</td>\n      <td></td>\n      <td>/jl.a dah</td>\n    </tr>\n    <tr>\n      <th>103</th>\n      <td>103</td>\n      <td>cafe fun rck</td>\n      <td></td>\n      <td></td>\n      <td>/</td>\n    </tr>\n    <tr>\n      <th>104</th>\n      <td>104</td>\n      <td>wonosari pudak 22 wonosari</td>\n      <td>wonosari pudak</td>\n      <td></td>\n      <td>/wonosari pudak</td>\n    </tr>\n    <tr>\n      <th>105</th>\n      <td>105</td>\n      <td>tham 5 49 ketapang rt 3 rw 2 cipondoh</td>\n      <td>tham 5</td>\n      <td></td>\n      <td>/tham 5</td>\n    </tr>\n    <tr>\n      <th>106</th>\n      <td>106</td>\n      <td>jogoka gg. sidol mantrijeron</td>\n      <td>jogoka gg. sidol</td>\n      <td></td>\n      <td>/jogoka gg. sidol</td>\n    </tr>\n    <tr>\n      <th>107</th>\n      <td>107</td>\n      <td>move on cell, pasundan no 1 75123 samarinda ulu</td>\n      <td>pasundan</td>\n      <td></td>\n      <td>/pasundan</td>\n    </tr>\n    <tr>\n      <th>108</th>\n      <td>108</td>\n      <td>lat sim, klaten utara</td>\n      <td>lat sim</td>\n      <td></td>\n      <td>/lat sim</td>\n    </tr>\n    <tr>\n      <th>109</th>\n      <td>109</td>\n      <td>sutra putih marg, depok</td>\n      <td>marg</td>\n      <td>sutra putih</td>\n      <td>sutra putih/marg</td>\n    </tr>\n  </tbody>\n</table>\n</div>"
     },
     "metadata": {},
     "execution_count": 106
    }
   ],
   "source": [
    "test.iloc[100:110]"
   ]
  },
  {
   "cell_type": "code",
   "execution_count": 111,
   "metadata": {},
   "outputs": [],
   "source": [
    "answer = pd.DataFrame(test['POI/street'])\n",
    "answer.index.name = 'id'"
   ]
  },
  {
   "cell_type": "code",
   "execution_count": 112,
   "metadata": {},
   "outputs": [
    {
     "output_type": "execute_result",
     "data": {
      "text/plain": [
       "    POI/street\n",
       "id            \n",
       "0      /s. par\n",
       "1    /angg per\n",
       "2   /mand imog\n",
       "3    /raya nga\n",
       "4   /cut mutia"
      ],
      "text/html": "<div>\n<style scoped>\n    .dataframe tbody tr th:only-of-type {\n        vertical-align: middle;\n    }\n\n    .dataframe tbody tr th {\n        vertical-align: top;\n    }\n\n    .dataframe thead th {\n        text-align: right;\n    }\n</style>\n<table border=\"1\" class=\"dataframe\">\n  <thead>\n    <tr style=\"text-align: right;\">\n      <th></th>\n      <th>POI/street</th>\n    </tr>\n    <tr>\n      <th>id</th>\n      <th></th>\n    </tr>\n  </thead>\n  <tbody>\n    <tr>\n      <th>0</th>\n      <td>/s. par</td>\n    </tr>\n    <tr>\n      <th>1</th>\n      <td>/angg per</td>\n    </tr>\n    <tr>\n      <th>2</th>\n      <td>/mand imog</td>\n    </tr>\n    <tr>\n      <th>3</th>\n      <td>/raya nga</td>\n    </tr>\n    <tr>\n      <th>4</th>\n      <td>/cut mutia</td>\n    </tr>\n  </tbody>\n</table>\n</div>"
     },
     "metadata": {},
     "execution_count": 112
    }
   ],
   "source": [
    "answer.head()"
   ]
  },
  {
   "cell_type": "code",
   "execution_count": 113,
   "metadata": {},
   "outputs": [],
   "source": [
    "answer.to_csv(r'C:\\Users\\vuduc\\Desktop\\submission.csv')"
   ]
  },
  {
   "cell_type": "code",
   "execution_count": null,
   "metadata": {},
   "outputs": [],
   "source": []
  }
 ]
}